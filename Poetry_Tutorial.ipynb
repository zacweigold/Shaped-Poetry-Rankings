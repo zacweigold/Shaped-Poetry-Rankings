{
 "cells": [
  {
   "cell_type": "markdown",
   "id": "c9c8b73c-6ef6-4bd1-80bc-dab7a58ba213",
   "metadata": {},
   "source": [
    "# GoodReads Poetry Ratings Tutorial #"
   ]
  },
  {
   "cell_type": "markdown",
   "id": "e13a03fe-4cb9-43bd-b378-efa84220fef0",
   "metadata": {},
   "source": [
    "This notebook will guide you through the process of utilizing a publically available dataset  on GoodReads.com of poetry ratings and using shaped to build a ranking model. The steps taken in this tutorial are as follows:\n",
    "\n",
    "- Loading the dataset and some basic Exploratory Data Analysis\n",
    "- Preprocessing for the Shaped API to properly ingest\n",
    "- Setting up an initial Shaped model\n",
    "- Model Enrichment using item features\n",
    "- Generating Poetry recommendations for a power user"
   ]
  },
  {
   "cell_type": "markdown",
   "id": "09688b64-e92d-40fc-b5cb-4cc71ebb72f6",
   "metadata": {},
   "source": [
    "Let's get started!"
   ]
  },
  {
   "cell_type": "markdown",
   "id": "f65fb694-eee0-4937-be5b-ca845d0b9485",
   "metadata": {},
   "source": [
    "## Data Preperation ##"
   ]
  },
  {
   "cell_type": "markdown",
   "id": "3796db76-aaf5-4b7a-b783-4dbf88f02b13",
   "metadata": {},
   "source": [
    "### Notebook Setup ###"
   ]
  },
  {
   "cell_type": "markdown",
   "id": "97f704ac-f873-41cc-99fc-b188e46d456c",
   "metadata": {},
   "source": [
    "For this tutorial, we require the following python packages to be used:"
   ]
  },
  {
   "cell_type": "code",
   "execution_count": 72,
   "id": "29000c82-435a-4e91-a293-ec9128a6c2e6",
   "metadata": {},
   "outputs": [],
   "source": [
    "import os\n",
    "import numpy as np\n",
    "import pandas as pd\n",
    "import matplotlib.pyplot as plt\n",
    "import yaml\n",
    "import pandoc"
   ]
  },
  {
   "cell_type": "markdown",
   "id": "fd44d678-1a0c-49f3-8f8c-27ac8a09096c",
   "metadata": {},
   "source": [
    "Replace ```<YOUR_API_KEY>``` with your own API key in the line of code below:"
   ]
  },
  {
   "cell_type": "code",
   "execution_count": 2,
   "id": "f39d8ffa-000d-457a-9abc-96d1c1373e60",
   "metadata": {},
   "outputs": [],
   "source": [
    "SHAPED_API_KEY = os.getenv('TEST_SHAPED_API_KEY', 'id6xF0pH5v3qzUsNrbKPJ7GwokJJETBu6PqYh7hS')"
   ]
  },
  {
   "cell_type": "markdown",
   "id": "99f3cb2c-b4c6-4dab-9c30-339543307b2f",
   "metadata": {},
   "source": [
    "Install Shaped & Pyyaml for model schema creation if you have not already:"
   ]
  },
  {
   "cell_type": "code",
   "execution_count": null,
   "id": "d0ff845f-a652-40bf-8af5-e416199971f6",
   "metadata": {},
   "outputs": [],
   "source": [
    "!pip install shaped\n",
    "!pip install pyyaml"
   ]
  },
  {
   "cell_type": "code",
   "execution_count": 3,
   "id": "af2d1a2d-13b6-458a-a0e9-36cbdcb832fc",
   "metadata": {},
   "outputs": [
    {
     "name": "stdout",
     "output_type": "stream",
     "text": [
      "Initializing with config: {'api_key': 'id6xF0pH5v3qzUsNrbKPJ7GwokJJETBu6PqYh7hS', 'env': 'prod'}\n"
     ]
    }
   ],
   "source": [
    "! shaped init --api-key $SHAPED_API_KEY "
   ]
  },
  {
   "cell_type": "markdown",
   "id": "920f22e9-9e28-4475-a0e1-1f775e207b3b",
   "metadata": {},
   "source": [
    "### Dataset Download ###"
   ]
  },
  {
   "cell_type": "markdown",
   "id": "ecd76c0f-3317-4c61-92eb-13965291052c",
   "metadata": {},
   "source": [
    "Firstly, we our going to download our publically available data by using CLI commands,then unzip and read into json files we can interact with:"
   ]
  },
  {
   "cell_type": "code",
   "execution_count": 4,
   "id": "213dfb3b-9329-483b-ab4e-bb208846e587",
   "metadata": {},
   "outputs": [
    {
     "name": "stdout",
     "output_type": "stream",
     "text": [
      "mkdir: notebook_assets: File exists\n"
     ]
    }
   ],
   "source": [
    "DIR_NAME = \"notebook_assets\"\n",
    "! mkdir $DIR_NAME"
   ]
  },
  {
   "cell_type": "code",
   "execution_count": null,
   "id": "f331378d-ff38-4038-a10a-b69c2bde0a75",
   "metadata": {},
   "outputs": [],
   "source": [
    "! echo \"Downloading GoodReads Poetry data...\"\n",
    "\n",
    "## Poetry Books Data ##\n",
    "! wget https://datarepo.eng.ucsd.edu/mcauley_group/gdrive/goodreads/byGenre/goodreads_books_poetry.json.gz --no-check-certificate -P $DIR_NAME\n",
    "! gzip -d $DIR_NAME/goodreads_books_poetry.json.gz\n",
    "\n",
    "## Poetry Interactions Data ##\n",
    "! wget https://datarepo.eng.ucsd.edu/mcauley_group/gdrive/goodreads/byGenre/goodreads_interactions_poetry.json.gz --no-check-certificate -P $DIR_NAME\n",
    "! gzip -d $DIR_NAME/goodreads_interactions_poetry.json.gz\n",
    "\n",
    "## Poetry Books Data ##\n",
    "! wget https://datarepo.eng.ucsd.edu/mcauley_group/gdrive/goodreads/byGenre/goodreads_reviews_poetry.json.gz --no-check-certificate -P $DIR_NAME\n",
    "! gzip -d $DIR_NAME/goodreads_reviews_poetry.json.gz"
   ]
  },
  {
   "cell_type": "code",
   "execution_count": 5,
   "id": "2278a7a5-6ee6-42fb-97e5-bdb90000e588",
   "metadata": {},
   "outputs": [],
   "source": [
    "data_dir = \"notebook_assets\"\n",
    "\n",
    "events_df = pd.read_json(f'{data_dir}/goodreads_interactions_poetry.json', lines=True)\n",
    "users_df = pd.read_json(f'{data_dir}/goodreads_reviews_poetry.json', lines=True)\n",
    "items_df = pd.read_json(f'{data_dir}/goodreads_books_poetry.json', lines=True)"
   ]
  },
  {
   "cell_type": "code",
   "execution_count": 6,
   "id": "5297254a-4569-4e28-87c8-d4c93aa748d1",
   "metadata": {},
   "outputs": [
    {
     "data": {
      "text/html": [
       "<div>\n",
       "<style scoped>\n",
       "    .dataframe tbody tr th:only-of-type {\n",
       "        vertical-align: middle;\n",
       "    }\n",
       "\n",
       "    .dataframe tbody tr th {\n",
       "        vertical-align: top;\n",
       "    }\n",
       "\n",
       "    .dataframe thead th {\n",
       "        text-align: right;\n",
       "    }\n",
       "</style>\n",
       "<table border=\"1\" class=\"dataframe\">\n",
       "  <thead>\n",
       "    <tr style=\"text-align: right;\">\n",
       "      <th></th>\n",
       "      <th>user_id</th>\n",
       "      <th>book_id</th>\n",
       "      <th>review_id</th>\n",
       "      <th>is_read</th>\n",
       "      <th>rating</th>\n",
       "      <th>review_text_incomplete</th>\n",
       "      <th>date_added</th>\n",
       "      <th>date_updated</th>\n",
       "      <th>read_at</th>\n",
       "      <th>started_at</th>\n",
       "    </tr>\n",
       "  </thead>\n",
       "  <tbody>\n",
       "    <tr>\n",
       "      <th>0</th>\n",
       "      <td>8842281e1d1347389f2ab93d60773d4d</td>\n",
       "      <td>1384</td>\n",
       "      <td>1bad0122cebb4aa9213f9fe1aa281f66</td>\n",
       "      <td>True</td>\n",
       "      <td>4</td>\n",
       "      <td></td>\n",
       "      <td>Wed May 09 09:33:44 -0700 2007</td>\n",
       "      <td>Wed May 09 09:33:44 -0700 2007</td>\n",
       "      <td></td>\n",
       "      <td></td>\n",
       "    </tr>\n",
       "    <tr>\n",
       "      <th>1</th>\n",
       "      <td>8842281e1d1347389f2ab93d60773d4d</td>\n",
       "      <td>1376</td>\n",
       "      <td>eb6e502d0c04d57b43a5a02c21b64ab4</td>\n",
       "      <td>True</td>\n",
       "      <td>4</td>\n",
       "      <td></td>\n",
       "      <td>Wed May 09 09:33:18 -0700 2007</td>\n",
       "      <td>Wed May 09 09:33:18 -0700 2007</td>\n",
       "      <td></td>\n",
       "      <td></td>\n",
       "    </tr>\n",
       "    <tr>\n",
       "      <th>2</th>\n",
       "      <td>8842281e1d1347389f2ab93d60773d4d</td>\n",
       "      <td>30119</td>\n",
       "      <td>787564bef16cb1f43e0f641ab59d25b7</td>\n",
       "      <td>True</td>\n",
       "      <td>5</td>\n",
       "      <td></td>\n",
       "      <td>Sat Jan 13 13:44:20 -0800 2007</td>\n",
       "      <td>Wed Mar 22 11:45:08 -0700 2017</td>\n",
       "      <td>Tue Mar 01 00:00:00 -0800 1983</td>\n",
       "      <td></td>\n",
       "    </tr>\n",
       "    <tr>\n",
       "      <th>3</th>\n",
       "      <td>72fb0d0087d28c832f15776b0d936598</td>\n",
       "      <td>24769928</td>\n",
       "      <td>8c80ee74743d4b3b123dd1a2e0c0bcac</td>\n",
       "      <td>False</td>\n",
       "      <td>0</td>\n",
       "      <td></td>\n",
       "      <td>Wed Apr 27 11:05:51 -0700 2016</td>\n",
       "      <td>Wed Apr 27 11:05:52 -0700 2016</td>\n",
       "      <td></td>\n",
       "      <td></td>\n",
       "    </tr>\n",
       "    <tr>\n",
       "      <th>4</th>\n",
       "      <td>72fb0d0087d28c832f15776b0d936598</td>\n",
       "      <td>30119</td>\n",
       "      <td>2a83589fb597309934ec9b1db5876aaf</td>\n",
       "      <td>True</td>\n",
       "      <td>3</td>\n",
       "      <td></td>\n",
       "      <td>Mon Jun 04 18:58:08 -0700 2012</td>\n",
       "      <td>Mon Jun 04 18:58:13 -0700 2012</td>\n",
       "      <td></td>\n",
       "      <td></td>\n",
       "    </tr>\n",
       "  </tbody>\n",
       "</table>\n",
       "</div>"
      ],
      "text/plain": [
       "                            user_id   book_id  \\\n",
       "0  8842281e1d1347389f2ab93d60773d4d      1384   \n",
       "1  8842281e1d1347389f2ab93d60773d4d      1376   \n",
       "2  8842281e1d1347389f2ab93d60773d4d     30119   \n",
       "3  72fb0d0087d28c832f15776b0d936598  24769928   \n",
       "4  72fb0d0087d28c832f15776b0d936598     30119   \n",
       "\n",
       "                          review_id  is_read  rating review_text_incomplete  \\\n",
       "0  1bad0122cebb4aa9213f9fe1aa281f66     True       4                          \n",
       "1  eb6e502d0c04d57b43a5a02c21b64ab4     True       4                          \n",
       "2  787564bef16cb1f43e0f641ab59d25b7     True       5                          \n",
       "3  8c80ee74743d4b3b123dd1a2e0c0bcac    False       0                          \n",
       "4  2a83589fb597309934ec9b1db5876aaf     True       3                          \n",
       "\n",
       "                       date_added                    date_updated  \\\n",
       "0  Wed May 09 09:33:44 -0700 2007  Wed May 09 09:33:44 -0700 2007   \n",
       "1  Wed May 09 09:33:18 -0700 2007  Wed May 09 09:33:18 -0700 2007   \n",
       "2  Sat Jan 13 13:44:20 -0800 2007  Wed Mar 22 11:45:08 -0700 2017   \n",
       "3  Wed Apr 27 11:05:51 -0700 2016  Wed Apr 27 11:05:52 -0700 2016   \n",
       "4  Mon Jun 04 18:58:08 -0700 2012  Mon Jun 04 18:58:13 -0700 2012   \n",
       "\n",
       "                          read_at started_at  \n",
       "0                                             \n",
       "1                                             \n",
       "2  Tue Mar 01 00:00:00 -0800 1983             \n",
       "3                                             \n",
       "4                                             "
      ]
     },
     "metadata": {},
     "output_type": "display_data"
    },
    {
     "data": {
      "text/html": [
       "<div>\n",
       "<style scoped>\n",
       "    .dataframe tbody tr th:only-of-type {\n",
       "        vertical-align: middle;\n",
       "    }\n",
       "\n",
       "    .dataframe tbody tr th {\n",
       "        vertical-align: top;\n",
       "    }\n",
       "\n",
       "    .dataframe thead th {\n",
       "        text-align: right;\n",
       "    }\n",
       "</style>\n",
       "<table border=\"1\" class=\"dataframe\">\n",
       "  <thead>\n",
       "    <tr style=\"text-align: right;\">\n",
       "      <th></th>\n",
       "      <th>user_id</th>\n",
       "      <th>book_id</th>\n",
       "      <th>review_id</th>\n",
       "      <th>rating</th>\n",
       "      <th>review_text</th>\n",
       "      <th>date_added</th>\n",
       "      <th>date_updated</th>\n",
       "      <th>read_at</th>\n",
       "      <th>started_at</th>\n",
       "      <th>n_votes</th>\n",
       "      <th>n_comments</th>\n",
       "    </tr>\n",
       "  </thead>\n",
       "  <tbody>\n",
       "    <tr>\n",
       "      <th>0</th>\n",
       "      <td>3ca7375dba942a760e53b726c472a7dd</td>\n",
       "      <td>402128</td>\n",
       "      <td>28423ff309bc896c071a8d9df4a10e8a</td>\n",
       "      <td>5</td>\n",
       "      <td>I have three younger siblings and we grew up w...</td>\n",
       "      <td>Tue Jun 12 08:59:04 -0700 2012</td>\n",
       "      <td>Fri Jun 15 11:41:12 -0700 2012</td>\n",
       "      <td></td>\n",
       "      <td></td>\n",
       "      <td>0</td>\n",
       "      <td>0</td>\n",
       "    </tr>\n",
       "    <tr>\n",
       "      <th>1</th>\n",
       "      <td>0ef32090550901ead25cb0ea21c4d36b</td>\n",
       "      <td>92270</td>\n",
       "      <td>2db1180992e2b0b1631a3ac5644bde84</td>\n",
       "      <td>5</td>\n",
       "      <td>This is my favorite collection of poetry.</td>\n",
       "      <td>Mon Apr 14 18:42:40 -0700 2014</td>\n",
       "      <td>Mon Apr 14 18:43:05 -0700 2014</td>\n",
       "      <td>Wed Jan 01 00:00:00 -0800 1997</td>\n",
       "      <td></td>\n",
       "      <td>0</td>\n",
       "      <td>0</td>\n",
       "    </tr>\n",
       "    <tr>\n",
       "      <th>2</th>\n",
       "      <td>0ef32090550901ead25cb0ea21c4d36b</td>\n",
       "      <td>908708</td>\n",
       "      <td>bca57fa40e92c9261b00b03dbebd96fe</td>\n",
       "      <td>4</td>\n",
       "      <td>He's so disturbing. So very, very disturbing.</td>\n",
       "      <td>Tue Apr 22 13:58:10 -0700 2008</td>\n",
       "      <td>Tue Apr 22 13:58:33 -0700 2008</td>\n",
       "      <td></td>\n",
       "      <td></td>\n",
       "      <td>0</td>\n",
       "      <td>0</td>\n",
       "    </tr>\n",
       "    <tr>\n",
       "      <th>3</th>\n",
       "      <td>d37b46b2190ed7c518259f29b47a9b36</td>\n",
       "      <td>253264</td>\n",
       "      <td>cb1ebc02d8b2aff15735d513877463ce</td>\n",
       "      <td>5</td>\n",
       "      <td>I just reread this play for a class I am takin...</td>\n",
       "      <td>Wed Sep 27 19:08:08 -0700 2017</td>\n",
       "      <td>Sat Sep 30 06:39:45 -0700 2017</td>\n",
       "      <td>Wed Sep 27 00:00:00 -0700 2017</td>\n",
       "      <td>Tue Sep 26 00:00:00 -0700 2017</td>\n",
       "      <td>1</td>\n",
       "      <td>0</td>\n",
       "    </tr>\n",
       "    <tr>\n",
       "      <th>4</th>\n",
       "      <td>af157d0205b8a901dee6d4a2aed7e6ad</td>\n",
       "      <td>70885</td>\n",
       "      <td>8dca128b8e869048a7442c18659dbece</td>\n",
       "      <td>5</td>\n",
       "      <td>Cuanto mas leo, mas me gusta. Su poesia es env...</td>\n",
       "      <td>Thu Jun 18 20:00:03 -0700 2015</td>\n",
       "      <td>Thu Jun 18 20:01:29 -0700 2015</td>\n",
       "      <td>Thu Jun 18 00:00:00 -0700 2015</td>\n",
       "      <td>Tue Jun 16 00:00:00 -0700 2015</td>\n",
       "      <td>0</td>\n",
       "      <td>0</td>\n",
       "    </tr>\n",
       "  </tbody>\n",
       "</table>\n",
       "</div>"
      ],
      "text/plain": [
       "                            user_id  book_id  \\\n",
       "0  3ca7375dba942a760e53b726c472a7dd   402128   \n",
       "1  0ef32090550901ead25cb0ea21c4d36b    92270   \n",
       "2  0ef32090550901ead25cb0ea21c4d36b   908708   \n",
       "3  d37b46b2190ed7c518259f29b47a9b36   253264   \n",
       "4  af157d0205b8a901dee6d4a2aed7e6ad    70885   \n",
       "\n",
       "                          review_id  rating  \\\n",
       "0  28423ff309bc896c071a8d9df4a10e8a       5   \n",
       "1  2db1180992e2b0b1631a3ac5644bde84       5   \n",
       "2  bca57fa40e92c9261b00b03dbebd96fe       4   \n",
       "3  cb1ebc02d8b2aff15735d513877463ce       5   \n",
       "4  8dca128b8e869048a7442c18659dbece       5   \n",
       "\n",
       "                                         review_text  \\\n",
       "0  I have three younger siblings and we grew up w...   \n",
       "1          This is my favorite collection of poetry.   \n",
       "2      He's so disturbing. So very, very disturbing.   \n",
       "3  I just reread this play for a class I am takin...   \n",
       "4  Cuanto mas leo, mas me gusta. Su poesia es env...   \n",
       "\n",
       "                       date_added                    date_updated  \\\n",
       "0  Tue Jun 12 08:59:04 -0700 2012  Fri Jun 15 11:41:12 -0700 2012   \n",
       "1  Mon Apr 14 18:42:40 -0700 2014  Mon Apr 14 18:43:05 -0700 2014   \n",
       "2  Tue Apr 22 13:58:10 -0700 2008  Tue Apr 22 13:58:33 -0700 2008   \n",
       "3  Wed Sep 27 19:08:08 -0700 2017  Sat Sep 30 06:39:45 -0700 2017   \n",
       "4  Thu Jun 18 20:00:03 -0700 2015  Thu Jun 18 20:01:29 -0700 2015   \n",
       "\n",
       "                          read_at                      started_at  n_votes  \\\n",
       "0                                                                        0   \n",
       "1  Wed Jan 01 00:00:00 -0800 1997                                        0   \n",
       "2                                                                        0   \n",
       "3  Wed Sep 27 00:00:00 -0700 2017  Tue Sep 26 00:00:00 -0700 2017        1   \n",
       "4  Thu Jun 18 00:00:00 -0700 2015  Tue Jun 16 00:00:00 -0700 2015        0   \n",
       "\n",
       "   n_comments  \n",
       "0           0  \n",
       "1           0  \n",
       "2           0  \n",
       "3           0  \n",
       "4           0  "
      ]
     },
     "metadata": {},
     "output_type": "display_data"
    },
    {
     "data": {
      "text/html": [
       "<div>\n",
       "<style scoped>\n",
       "    .dataframe tbody tr th:only-of-type {\n",
       "        vertical-align: middle;\n",
       "    }\n",
       "\n",
       "    .dataframe tbody tr th {\n",
       "        vertical-align: top;\n",
       "    }\n",
       "\n",
       "    .dataframe thead th {\n",
       "        text-align: right;\n",
       "    }\n",
       "</style>\n",
       "<table border=\"1\" class=\"dataframe\">\n",
       "  <thead>\n",
       "    <tr style=\"text-align: right;\">\n",
       "      <th></th>\n",
       "      <th>isbn</th>\n",
       "      <th>text_reviews_count</th>\n",
       "      <th>series</th>\n",
       "      <th>country_code</th>\n",
       "      <th>language_code</th>\n",
       "      <th>popular_shelves</th>\n",
       "      <th>asin</th>\n",
       "      <th>is_ebook</th>\n",
       "      <th>average_rating</th>\n",
       "      <th>kindle_asin</th>\n",
       "      <th>...</th>\n",
       "      <th>publication_month</th>\n",
       "      <th>edition_information</th>\n",
       "      <th>publication_year</th>\n",
       "      <th>url</th>\n",
       "      <th>image_url</th>\n",
       "      <th>book_id</th>\n",
       "      <th>ratings_count</th>\n",
       "      <th>work_id</th>\n",
       "      <th>title</th>\n",
       "      <th>title_without_series</th>\n",
       "    </tr>\n",
       "  </thead>\n",
       "  <tbody>\n",
       "    <tr>\n",
       "      <th>0</th>\n",
       "      <td></td>\n",
       "      <td>1</td>\n",
       "      <td>[]</td>\n",
       "      <td>US</td>\n",
       "      <td>eng</td>\n",
       "      <td>[{'count': '8', 'name': 'to-read'}, {'count': ...</td>\n",
       "      <td></td>\n",
       "      <td>false</td>\n",
       "      <td>3.83</td>\n",
       "      <td></td>\n",
       "      <td>...</td>\n",
       "      <td>11</td>\n",
       "      <td></td>\n",
       "      <td>1887</td>\n",
       "      <td>https://www.goodreads.com/book/show/16037549-v...</td>\n",
       "      <td>https://images.gr-assets.com/books/1348176637m...</td>\n",
       "      <td>16037549</td>\n",
       "      <td>3</td>\n",
       "      <td>5212748</td>\n",
       "      <td>Vision of Sir Launfal and Other Poems</td>\n",
       "      <td>Vision of Sir Launfal and Other Poems</td>\n",
       "    </tr>\n",
       "    <tr>\n",
       "      <th>1</th>\n",
       "      <td>0811223981</td>\n",
       "      <td>2</td>\n",
       "      <td>[]</td>\n",
       "      <td>US</td>\n",
       "      <td></td>\n",
       "      <td>[{'count': '100', 'name': 'to-read'}, {'count'...</td>\n",
       "      <td></td>\n",
       "      <td>false</td>\n",
       "      <td>3.83</td>\n",
       "      <td>B00U2WY9U8</td>\n",
       "      <td>...</td>\n",
       "      <td>4</td>\n",
       "      <td></td>\n",
       "      <td>2015</td>\n",
       "      <td>https://www.goodreads.com/book/show/22466716-f...</td>\n",
       "      <td>https://images.gr-assets.com/books/1404958407m...</td>\n",
       "      <td>22466716</td>\n",
       "      <td>37</td>\n",
       "      <td>41905435</td>\n",
       "      <td>Fairy Tales: Dramolettes</td>\n",
       "      <td>Fairy Tales: Dramolettes</td>\n",
       "    </tr>\n",
       "    <tr>\n",
       "      <th>2</th>\n",
       "      <td>0374428115</td>\n",
       "      <td>7</td>\n",
       "      <td>[]</td>\n",
       "      <td>US</td>\n",
       "      <td></td>\n",
       "      <td>[{'count': '32', 'name': 'to-read'}, {'count':...</td>\n",
       "      <td></td>\n",
       "      <td>false</td>\n",
       "      <td>4.38</td>\n",
       "      <td></td>\n",
       "      <td>...</td>\n",
       "      <td>7</td>\n",
       "      <td></td>\n",
       "      <td>2008</td>\n",
       "      <td>https://www.goodreads.com/book/show/926662.Gro...</td>\n",
       "      <td>https://s.gr-assets.com/assets/nophoto/book/11...</td>\n",
       "      <td>926662</td>\n",
       "      <td>45</td>\n",
       "      <td>911665</td>\n",
       "      <td>Growltiger's Last Stand and Other Poems</td>\n",
       "      <td>Growltiger's Last Stand and Other Poems</td>\n",
       "    </tr>\n",
       "    <tr>\n",
       "      <th>3</th>\n",
       "      <td>0156182890</td>\n",
       "      <td>12</td>\n",
       "      <td>[]</td>\n",
       "      <td>US</td>\n",
       "      <td></td>\n",
       "      <td>[{'count': '554', 'name': 'to-read'}, {'count'...</td>\n",
       "      <td></td>\n",
       "      <td>false</td>\n",
       "      <td>3.71</td>\n",
       "      <td>B00IWTRB1W</td>\n",
       "      <td>...</td>\n",
       "      <td>3</td>\n",
       "      <td></td>\n",
       "      <td>1964</td>\n",
       "      <td>https://www.goodreads.com/book/show/926667.The...</td>\n",
       "      <td>https://images.gr-assets.com/books/1382939971m...</td>\n",
       "      <td>926667</td>\n",
       "      <td>115</td>\n",
       "      <td>995066</td>\n",
       "      <td>The Cocktail Party</td>\n",
       "      <td>The Cocktail Party</td>\n",
       "    </tr>\n",
       "    <tr>\n",
       "      <th>4</th>\n",
       "      <td>1942004192</td>\n",
       "      <td>4</td>\n",
       "      <td>[]</td>\n",
       "      <td>US</td>\n",
       "      <td>eng</td>\n",
       "      <td>[{'count': '228', 'name': 'to-read'}, {'count'...</td>\n",
       "      <td></td>\n",
       "      <td>false</td>\n",
       "      <td>5.00</td>\n",
       "      <td></td>\n",
       "      <td>...</td>\n",
       "      <td>12</td>\n",
       "      <td>First</td>\n",
       "      <td>2015</td>\n",
       "      <td>https://www.goodreads.com/book/show/29065952-l...</td>\n",
       "      <td>https://images.gr-assets.com/books/1455198396m...</td>\n",
       "      <td>29065952</td>\n",
       "      <td>9</td>\n",
       "      <td>49294781</td>\n",
       "      <td>Louder Than Everything You Love</td>\n",
       "      <td>Louder Than Everything You Love</td>\n",
       "    </tr>\n",
       "  </tbody>\n",
       "</table>\n",
       "<p>5 rows × 29 columns</p>\n",
       "</div>"
      ],
      "text/plain": [
       "         isbn  text_reviews_count series country_code language_code  \\\n",
       "0                               1     []           US           eng   \n",
       "1  0811223981                   2     []           US                 \n",
       "2  0374428115                   7     []           US                 \n",
       "3  0156182890                  12     []           US                 \n",
       "4  1942004192                   4     []           US           eng   \n",
       "\n",
       "                                     popular_shelves asin is_ebook  \\\n",
       "0  [{'count': '8', 'name': 'to-read'}, {'count': ...         false   \n",
       "1  [{'count': '100', 'name': 'to-read'}, {'count'...         false   \n",
       "2  [{'count': '32', 'name': 'to-read'}, {'count':...         false   \n",
       "3  [{'count': '554', 'name': 'to-read'}, {'count'...         false   \n",
       "4  [{'count': '228', 'name': 'to-read'}, {'count'...         false   \n",
       "\n",
       "   average_rating kindle_asin  ... publication_month edition_information  \\\n",
       "0            3.83              ...                11                       \n",
       "1            3.83  B00U2WY9U8  ...                 4                       \n",
       "2            4.38              ...                 7                       \n",
       "3            3.71  B00IWTRB1W  ...                 3                       \n",
       "4            5.00              ...                12               First   \n",
       "\n",
       "  publication_year                                                url  \\\n",
       "0             1887  https://www.goodreads.com/book/show/16037549-v...   \n",
       "1             2015  https://www.goodreads.com/book/show/22466716-f...   \n",
       "2             2008  https://www.goodreads.com/book/show/926662.Gro...   \n",
       "3             1964  https://www.goodreads.com/book/show/926667.The...   \n",
       "4             2015  https://www.goodreads.com/book/show/29065952-l...   \n",
       "\n",
       "                                           image_url   book_id ratings_count  \\\n",
       "0  https://images.gr-assets.com/books/1348176637m...  16037549             3   \n",
       "1  https://images.gr-assets.com/books/1404958407m...  22466716            37   \n",
       "2  https://s.gr-assets.com/assets/nophoto/book/11...    926662            45   \n",
       "3  https://images.gr-assets.com/books/1382939971m...    926667           115   \n",
       "4  https://images.gr-assets.com/books/1455198396m...  29065952             9   \n",
       "\n",
       "    work_id                                    title  \\\n",
       "0   5212748    Vision of Sir Launfal and Other Poems   \n",
       "1  41905435                 Fairy Tales: Dramolettes   \n",
       "2    911665  Growltiger's Last Stand and Other Poems   \n",
       "3    995066                       The Cocktail Party   \n",
       "4  49294781          Louder Than Everything You Love   \n",
       "\n",
       "                      title_without_series  \n",
       "0    Vision of Sir Launfal and Other Poems  \n",
       "1                 Fairy Tales: Dramolettes  \n",
       "2  Growltiger's Last Stand and Other Poems  \n",
       "3                       The Cocktail Party  \n",
       "4          Louder Than Everything You Love  \n",
       "\n",
       "[5 rows x 29 columns]"
      ]
     },
     "metadata": {},
     "output_type": "display_data"
    }
   ],
   "source": [
    "display(events_df.head())\n",
    "display(users_df.head())\n",
    "display(items_df.head())"
   ]
  },
  {
   "cell_type": "markdown",
   "id": "46f944a4-df82-49d6-9426-51083a968d6f",
   "metadata": {},
   "source": [
    "Taking a look at the downloaded files, we can see that we have three Pandas DataFrames of interest. They are:\n",
    "\n",
    "- ```events_df``` : DataFrame stored in ```goodreads_interactions_poetry.json```. Contains data detailing the individual ratings of the poetry books by a given user.\n",
    "- ```users_df``` : DataFrame stored in ```goodreads_reviews_poetry.json```. Contains information on all reviews on individual books by individual users on GoodReads.\n",
    "- ```items_df``` : DataFrame stored in ```goodreads_books_poetry.json```. Contains basic information on different poetry books, including their average rating on GoodReads."
   ]
  },
  {
   "cell_type": "markdown",
   "id": "6fc8a7dc-2711-4883-8eef-ba26d769bdd5",
   "metadata": {},
   "source": [
    "We have quite a bit of data here. However, for our initial basic Shaped model to get up and running, we only require a few different collumns from these dataframes. Shaped requires that we feed it at least:\n",
    "\n",
    " - ```user_id```, ```item_id```, ```label``` & ```created_at``` Collumns for the Events Data\n",
    " - ```user_id``` Collumn for the Users Data\n",
    " - ```item_id``` Collumn for the Item Data\n",
    "\n",
    "Let's take a look at the collumns within these DataFrames:"
   ]
  },
  {
   "cell_type": "code",
   "execution_count": 7,
   "id": "884f729e-63e9-4363-9b3f-7ad42770814e",
   "metadata": {},
   "outputs": [
    {
     "name": "stdout",
     "output_type": "stream",
     "text": [
      "Events DataFrame Columns = ['user_id' 'book_id' 'review_id' 'is_read' 'rating'\n",
      " 'review_text_incomplete' 'date_added' 'date_updated' 'read_at'\n",
      " 'started_at']\n",
      "Users DataFrame Columns = ['user_id' 'book_id' 'review_id' 'rating' 'review_text' 'date_added'\n",
      " 'date_updated' 'read_at' 'started_at' 'n_votes' 'n_comments']\n",
      "Items DataFrame Columns = ['isbn' 'text_reviews_count' 'series' 'country_code' 'language_code'\n",
      " 'popular_shelves' 'asin' 'is_ebook' 'average_rating' 'kindle_asin'\n",
      " 'similar_books' 'description' 'format' 'link' 'authors' 'publisher'\n",
      " 'num_pages' 'publication_day' 'isbn13' 'publication_month'\n",
      " 'edition_information' 'publication_year' 'url' 'image_url' 'book_id'\n",
      " 'ratings_count' 'work_id' 'title' 'title_without_series']\n"
     ]
    }
   ],
   "source": [
    "print(\"Events DataFrame Columns = {}\".format(events_df.columns.values))\n",
    "print(\"Users DataFrame Columns = {}\".format(users_df.columns.values))\n",
    "print(\"Items DataFrame Columns = {}\".format(items_df.columns.values))"
   ]
  },
  {
   "cell_type": "markdown",
   "id": "cfaac145-a20e-46a3-8dee-59ee2dd6dbc1",
   "metadata": {},
   "source": [
    "By looking at the collumns above, we can see that we have the neccasary data to start working with Shaped. Our ```book_id``` collumn will serve as our item id's, our ```rating``` collumn will be our label feature and our ```date_added``` collumns will be our timestamps. Let's keep these collumns aswell as a few more features that may be useful down the road:"
   ]
  },
  {
   "cell_type": "code",
   "execution_count": 8,
   "id": "7fd39035-91d7-493e-84c4-838f61f14a4e",
   "metadata": {},
   "outputs": [],
   "source": [
    "events_df = events_df[[\"user_id\",\"book_id\",\"review_id\",\"is_read\",\"rating\",\"date_added\"]]\n",
    "users_df = users_df[[\"user_id\",\"book_id\",\"review_id\",\"rating\",\"review_text\",\"date_added\",\"n_votes\"]]\n",
    "items_df = items_df[[\"book_id\",\"title\",\"language_code\",\"authors\",\"description\",\"publication_year\",\"num_pages\",\"average_rating\"]]"
   ]
  },
  {
   "cell_type": "markdown",
   "id": "df67227b-06cd-4d59-a6ed-2fbd84b5ba3d",
   "metadata": {},
   "source": [
    "## DataFrame Cleaning ##"
   ]
  },
  {
   "cell_type": "markdown",
   "id": "0db5f00a-96de-4e1d-8ee4-32b7097b9e76",
   "metadata": {},
   "source": [
    "Let's do some tidying up of these DataFrames! Firstly, we want to check for any missing values and duplicate rows, and sort those out accordingly. We will then have a look at the datatypes of each relevant collumn, and then have a look at the distribution of the ratings to see what we might be able to expect from our Shaped rating model. Additionally, we will randomly sample 100,000 rows from the ```events_df``` and ```users_df``` to keeps things simple:"
   ]
  },
  {
   "cell_type": "markdown",
   "id": "3a637f16-04a0-421b-bb46-a3ff9060cb32",
   "metadata": {},
   "source": [
    "### Events DataFrame ###"
   ]
  },
  {
   "cell_type": "code",
   "execution_count": 66,
   "id": "9f93eea9-632c-4db7-92ea-479eb5ad6dae",
   "metadata": {},
   "outputs": [
    {
     "data": {
      "text/plain": [
       "user_id       0\n",
       "book_id       0\n",
       "review_id     0\n",
       "is_read       0\n",
       "rating        0\n",
       "date_added    0\n",
       "dtype: int64"
      ]
     },
     "metadata": {},
     "output_type": "display_data"
    },
    {
     "name": "stdout",
     "output_type": "stream",
     "text": [
      "Number of Duplicated Rows = 0\n",
      "<class 'pandas.core.frame.DataFrame'>\n",
      "Int64Index: 100000 entries, 549257 to 1556479\n",
      "Data columns (total 6 columns):\n",
      " #   Column      Non-Null Count   Dtype \n",
      "---  ------      --------------   ----- \n",
      " 0   user_id     100000 non-null  object\n",
      " 1   book_id     100000 non-null  int64 \n",
      " 2   review_id   100000 non-null  object\n",
      " 3   is_read     100000 non-null  bool  \n",
      " 4   rating      100000 non-null  int64 \n",
      " 5   date_added  100000 non-null  object\n",
      "dtypes: bool(1), int64(2), object(3)\n",
      "memory usage: 4.7+ MB\n",
      "            book_id         rating\n",
      "count  1.000000e+05  100000.000000\n",
      "mean   4.965551e+06       3.800960\n",
      "std    8.407869e+06       1.371795\n",
      "min    2.340000e+02       0.000000\n",
      "25%    3.011800e+04       3.000000\n",
      "50%    2.939240e+05       4.000000\n",
      "75%    6.667403e+06       5.000000\n",
      "max    3.629540e+07       5.000000\n",
      "Cleaned Events DataFrame Dimensions = (100000, 6)\n"
     ]
    },
    {
     "data": {
      "image/png": "[encoded data removed]",
      "text/plain": [
       "<Figure size 800x500 with 1 Axes>"
      ]
     },
     "metadata": {},
     "output_type": "display_data"
    }
   ],
   "source": [
    "display(events_df.isnull().sum()) \n",
    "print(\"Number of Duplicated Rows = {}\".format(events_df.duplicated().sum()))\n",
    "events_df = events_df[events_df['is_read'] == 1]\n",
    "events_df = events_df.sample(n=100000)\n",
    "events_df.info()\n",
    "print(events_df.describe())\n",
    "print(\"Cleaned Events DataFrame Dimensions = {}\".format(events_df.shape))\n",
    "plt.subplots(figsize=(8,5))\n",
    "plt.hist(events_df['rating'],bins=6)\n",
    "plt.xlabel('Rating')\n",
    "plt.ylabel('Count')\n",
    "plt.title('Rating Distribution')\n",
    "plt.show()"
   ]
  },
  {
   "cell_type": "markdown",
   "id": "c87a203a-fbd0-4626-910d-0c0303b204cf",
   "metadata": {},
   "source": [
    "### Users DataFrame ###"
   ]
  },
  {
   "cell_type": "code",
   "execution_count": 69,
   "id": "cf757173-93b0-4c61-8c02-f89c3024cbb8",
   "metadata": {},
   "outputs": [
    {
     "data": {
      "text/plain": [
       "user_id        0\n",
       "book_id        0\n",
       "review_id      0\n",
       "rating         0\n",
       "review_text    0\n",
       "date_added     0\n",
       "n_votes        0\n",
       "dtype: int64"
      ]
     },
     "metadata": {},
     "output_type": "display_data"
    },
    {
     "name": "stdout",
     "output_type": "stream",
     "text": [
      "Number of Duplicated Rows = 0\n",
      "<class 'pandas.core.frame.DataFrame'>\n",
      "Int64Index: 100000 entries, 10057 to 3981\n",
      "Data columns (total 7 columns):\n",
      " #   Column       Non-Null Count   Dtype \n",
      "---  ------       --------------   ----- \n",
      " 0   user_id      100000 non-null  object\n",
      " 1   book_id      100000 non-null  int64 \n",
      " 2   review_id    100000 non-null  object\n",
      " 3   rating       100000 non-null  int64 \n",
      " 4   review_text  100000 non-null  object\n",
      " 5   date_added   100000 non-null  object\n",
      " 6   n_votes      100000 non-null  int64 \n",
      "dtypes: int64(3), object(4)\n",
      "memory usage: 6.1+ MB\n",
      "            book_id         rating       n_votes\n",
      "count  1.000000e+05  100000.000000  100000.00000\n",
      "mean   1.025060e+07       3.815050       1.53300\n",
      "std    1.028196e+07       1.313362       7.77355\n",
      "min    2.340000e+02       0.000000      -1.00000\n",
      "25%    5.191120e+05       3.000000       0.00000\n",
      "50%    6.908556e+06       4.000000       0.00000\n",
      "75%    1.823052e+07       5.000000       1.00000\n",
      "max    3.648548e+07       5.000000    1065.00000\n"
     ]
    },
    {
     "data": {
      "image/png": "[encoded data removed]",
      "text/plain": [
       "<Figure size 800x500 with 1 Axes>"
      ]
     },
     "metadata": {},
     "output_type": "display_data"
    }
   ],
   "source": [
    "display(users_df.isnull().sum()) \n",
    "print(\"Number of Duplicated Rows = {}\".format(users_df.duplicated().sum()))\n",
    "users_df = users_df.sample(n=100000)\n",
    "users_df.info()\n",
    "print(users_df.describe())\n",
    "plt.subplots(figsize=(8,5))\n",
    "plt.hist(users_df['rating'],bins=6)\n",
    "plt.xlabel('Rating')\n",
    "plt.ylabel('Count')\n",
    "plt.title('Rating Distribution')\n",
    "plt.show()"
   ]
  },
  {
   "cell_type": "markdown",
   "id": "b2bc6584-e90c-4af3-864f-55c88e6f6bff",
   "metadata": {},
   "source": [
    "Note that above, we have also removed all rows where the ```is_read``` collumn is set to FALSE, as we are only concered about reviews by users who have read the book they have given a rating to."
   ]
  },
  {
   "cell_type": "markdown",
   "id": "36380f67-c6fc-421c-b14d-23f13b4ae0f5",
   "metadata": {},
   "source": [
    "### Items DataFrame ###"
   ]
  },
  {
   "cell_type": "code",
   "execution_count": 68,
   "id": "1d66a76d-7ceb-48a8-b81c-2a75673ef854",
   "metadata": {},
   "outputs": [
    {
     "data": {
      "text/plain": [
       "book_id             0\n",
       "title               0\n",
       "language_code       0\n",
       "authors             0\n",
       "description         0\n",
       "publication_year    0\n",
       "num_pages           0\n",
       "average_rating      0\n",
       "dtype: int64"
      ]
     },
     "metadata": {},
     "output_type": "display_data"
    },
    {
     "name": "stdout",
     "output_type": "stream",
     "text": [
      "Number of Duplicated Rows = 0\n",
      "<class 'pandas.core.frame.DataFrame'>\n",
      "RangeIndex: 36514 entries, 0 to 36513\n",
      "Data columns (total 8 columns):\n",
      " #   Column            Non-Null Count  Dtype  \n",
      "---  ------            --------------  -----  \n",
      " 0   book_id           36514 non-null  int64  \n",
      " 1   title             36514 non-null  object \n",
      " 2   language_code     36514 non-null  object \n",
      " 3   authors           36514 non-null  object \n",
      " 4   description       36514 non-null  object \n",
      " 5   publication_year  36514 non-null  object \n",
      " 6   num_pages         36514 non-null  object \n",
      " 7   average_rating    36514 non-null  float64\n",
      "dtypes: float64(1), int64(1), object(6)\n",
      "memory usage: 2.2+ MB\n",
      "            book_id  average_rating\n",
      "count  3.651400e+04    36514.000000\n",
      "mean   1.063452e+07        4.063838\n",
      "std    1.035345e+07        0.399965\n",
      "min    2.340000e+02        0.000000\n",
      "25%    1.185514e+06        3.840000\n",
      "50%    7.223308e+06        4.100000\n",
      "75%    1.821872e+07        4.310000\n",
      "max    3.648548e+07        5.000000\n"
     ]
    },
    {
     "data": {
      "image/png": "[encoded data removed]",
      "text/plain": [
       "<Figure size 800x500 with 1 Axes>"
      ]
     },
     "metadata": {},
     "output_type": "display_data"
    }
   ],
   "source": [
    "display(items_df.isnull().sum()) \n",
    "print(\"Number of Duplicated Rows = {}\".format(items_df['book_id'].duplicated().sum()))\n",
    "items_df.info()\n",
    "print(items_df.describe())\n",
    "plt.subplots(figsize=(8,5))\n",
    "plt.hist(items_df['average_rating'],bins=50)\n",
    "plt.xlabel('Average Rating')\n",
    "plt.ylabel('Count')\n",
    "plt.title('Average Book Rating Distribution')\n",
    "plt.show()"
   ]
  },
  {
   "cell_type": "markdown",
   "id": "f6ba97a4-23da-41ae-b880-5fd704e2a9f4",
   "metadata": {},
   "source": [
    "## Creating Our First Model ##"
   ]
  },
  {
   "cell_type": "markdown",
   "id": "96d555df-5e3d-4b61-9f18-9bbf987edbc1",
   "metadata": {},
   "source": [
    "Now it's time to get stuck into building our initial model with Shaped! For simplicity, we are going to start off with using just the ratings given by users to build a filtering system. This means that we will only have to use the ```events_df``` at the moment, as it has every nessacary datatype required to build a basic filtering model. Shaped will ingest our data, and use the ratings in order to determine other poems on GoodReads that a given user may like, assuming that the higher the rating of a poem, the more likeley it is that a user will enjoy the poem. In order to start doing this, we first have to create a ```.yaml``` file outlying the schema for our model:"
   ]
  },
  {
   "cell_type": "markdown",
   "id": "57a4071a-7772-4ab9-b5ac-be4dd089780f",
   "metadata": {},
   "source": [
    "### .Yaml Dataset Schema Creation ###"
   ]
  },
  {
   "cell_type": "code",
   "execution_count": 12,
   "id": "c55eef35-ec60-4d30-89d8-36f9765973aa",
   "metadata": {},
   "outputs": [],
   "source": [
    "\n",
    "dir_path = \"notebook_assets\"\n",
    "\n",
    "events_dataset_schema = {\n",
    "    \"dataset_name\": \"goodreads_events\",\n",
    "    \"schema_type\": \"CUSTOM\",\n",
    "    \"schema\": {\n",
    "        \"user_id\": \"String\",\n",
    "        \"book_id\": \"String\",\n",
    "        \"rating\": \"Int64\",\n",
    "        \"date_added\": \"String\"       \n",
    "    }\n",
    "}\n",
    "\n",
    "with open(f'{dir_path}/events_dataset_schema.yaml', 'w') as file:\n",
    "    yaml.dump(events_dataset_schema, file)\n",
    "\n",
    "users_dataset_schema = {\n",
    "    \"dataset_name\": \"goodreads_users\",\n",
    "    \"schema_type\": \"CUSTOM\",\n",
    "    \"schema\": {\n",
    "        \"user_id\": \"String\"\n",
    "    }\n",
    "}\n",
    "\n",
    "with open(f'{dir_path}/users_dataset_schema.yaml', 'w') as file:\n",
    "    yaml.dump(users_dataset_schema, file)\n",
    "\n",
    "items_dataset_schema = {\n",
    "    \"dataset_name\": \"goodreads_items\",\n",
    "    \"schema_type\": \"CUSTOM\",\n",
    "    \"schema\": {\n",
    "        \"book_id\": \"String\",\n",
    "        \"publication_year\": \"String\",\n",
    "        \"num_pages\": \"Int64\"\n",
    "    }\n",
    "}\n",
    "\n",
    "with open(f'{dir_path}/items_dataset_schema.yaml', 'w') as file:\n",
    "    yaml.dump(items_dataset_schema, file)"
   ]
  },
  {
   "cell_type": "markdown",
   "id": "cd9ff213-c08e-48c9-bd01-2d0dac81f004",
   "metadata": {},
   "source": [
    "Now lets create the infaastructure for these datasets using the outlined yaml files above and the Shaped ```create-dataset``` command:"
   ]
  },
  {
   "cell_type": "code",
   "execution_count": 15,
   "id": "ac57adbf-b0eb-45cf-ac8b-53906e097407",
   "metadata": {},
   "outputs": [
    {
     "name": "stdout",
     "output_type": "stream",
     "text": [
      "{\n",
      "  \"dataset_name\": \"goodreads_events\",\n",
      "  \"schema\": {\n",
      "    \"book_id\": \"String\",\n",
      "    \"date_added\": \"String\",\n",
      "    \"rating\": \"Int64\",\n",
      "    \"user_id\": \"String\"\n",
      "  },\n",
      "  \"schema_type\": \"CUSTOM\"\n",
      "}\n",
      "message: Dataset with name 'goodreads_events' was successfully scheduled for creation\n",
      "\n",
      "{\n",
      "  \"dataset_name\": \"goodreads_users\",\n",
      "  \"schema\": {\n",
      "    \"user_id\": \"String\"\n",
      "  },\n",
      "  \"schema_type\": \"CUSTOM\"\n",
      "}\n",
      "message: Dataset with name 'goodreads_users' was successfully scheduled for creation\n",
      "\n",
      "{\n",
      "  \"dataset_name\": \"goodreads_items\",\n",
      "  \"schema\": {\n",
      "    \"book_id\": \"String\",\n",
      "    \"num_pages\": \"Int64\",\n",
      "    \"publication_year\": \"String\"\n",
      "  },\n",
      "  \"schema_type\": \"CUSTOM\"\n",
      "}\n",
      "message: Dataset with name 'goodreads_items' was successfully scheduled for creation\n",
      "\n"
     ]
    }
   ],
   "source": [
    "! shaped create-dataset --file $data_dir/events_dataset_schema.yaml\n",
    "! shaped create-dataset --file $data_dir/users_dataset_schema.yaml\n",
    "! shaped create-dataset --file $data_dir/items_dataset_schema.yaml"
   ]
  },
  {
   "cell_type": "markdown",
   "id": "937648ef-413e-45a0-b1ae-50c06cfac573",
   "metadata": {},
   "source": [
    "It might take a little while for Shaped to successfully schedule and create the infrastructure for these datasets, but you can easily monitor the progress of this using the CLI command below:"
   ]
  },
  {
   "cell_type": "code",
   "execution_count": 16,
   "id": "f5126a20-288d-4a61-ad9e-8a7d698870d1",
   "metadata": {},
   "outputs": [
    {
     "name": "stdout",
     "output_type": "stream",
     "text": [
      "datasets:\n",
      "- dataset_name: goodreads_events\n",
      "  dataset_uri: https://api.prod.shaped.ai/v1/datasets/goodreads_events\n",
      "  created_at: 2023-08-30T14:47:25 UTC\n",
      "  schema_type: CUSTOM\n",
      "  status: ACTIVE\n",
      "- dataset_name: goodreads_users\n",
      "  dataset_uri: https://api.prod.shaped.ai/v1/datasets/goodreads_users\n",
      "  created_at: 2023-08-30T14:47:27 UTC\n",
      "  schema_type: CUSTOM\n",
      "  status: ACTIVE\n",
      "- dataset_name: goodreads_items\n",
      "  dataset_uri: https://api.prod.shaped.ai/v1/datasets/goodreads_items\n",
      "  created_at: 2023-08-30T14:47:29 UTC\n",
      "  schema_type: CUSTOM\n",
      "  status: ACTIVE\n",
      "\n"
     ]
    }
   ],
   "source": [
    "! shaped list-datasets"
   ]
  },
  {
   "cell_type": "markdown",
   "id": "0e910f5a-69df-4408-824f-160c488452d2",
   "metadata": {},
   "source": [
    "### Uploading Data to Shaped ###"
   ]
  },
  {
   "cell_type": "markdown",
   "id": "fd690a87-dc6e-4be9-a12d-f4d7bf5113c5",
   "metadata": {},
   "source": [
    "Now let's upload our DataFrames to shaped to place in the infastructure we have just created. You can use multiple different file formats to achieve this, one of them being a simple .csv format. Let's save our DataFrames to individual csv's in our working directory and insert them into Shaped:"
   ]
  },
  {
   "cell_type": "code",
   "execution_count": 17,
   "id": "880d36ef-9d1a-4520-8eb1-3f9f099e870a",
   "metadata": {},
   "outputs": [],
   "source": [
    "events_df.to_csv('notebook_assets/events_df.csv')\n",
    "users_df.to_csv('notebook_assets/users_df.csv')\n",
    "items_df.to_csv('notebook_assets/items_df.csv')"
   ]
  },
  {
   "cell_type": "code",
   "execution_count": 18,
   "id": "95a40524-c4a0-4202-8389-7e21ecf00cd9",
   "metadata": {},
   "outputs": [
    {
     "name": "stdout",
     "output_type": "stream",
     "text": [
      "100000 Records [04:43, 352.26 Records/s]\n",
      "100000 Records [05:51, 284.48 Records/s]\n",
      "36514 Records [02:13, 273.58 Records/s]\n"
     ]
    }
   ],
   "source": [
    "! shaped dataset-insert --dataset-name goodreads_events --file notebook_assets/events_df.csv --type 'csv'\n",
    "! shaped dataset-insert --dataset-name goodreads_users --file notebook_assets/users_df.csv --type 'csv'\n",
    "! shaped dataset-insert --dataset-name goodreads_items --file notebook_assets/items_df.csv --type 'csv'"
   ]
  },
  {
   "cell_type": "markdown",
   "id": "c54e66bd-c5bf-4816-9cab-ee336b1a94ff",
   "metadata": {},
   "source": [
    "### Model Schema Creation ###"
   ]
  },
  {
   "cell_type": "markdown",
   "id": "a75151bd-a428-40cf-b11e-8f23d0ca82aa",
   "metadata": {},
   "source": [
    "Now let's detail the schema Shaped will use to create our model for us. We will create another ```.yaml``` file for this, with the following key elements:\n",
    "\n",
    "- ```model``` : Defines the Name of the model created\n",
    "- ```connectors``` : Specifies the data to be used to feed into Shaped\n",
    "- ```fetch``` : Specifies which data collumns will be used as information for events,users and items"
   ]
  },
  {
   "cell_type": "code",
   "execution_count": 19,
   "id": "90640feb-b895-4280-a475-4fb02e0923e7",
   "metadata": {},
   "outputs": [],
   "source": [
    "poetry_rating_schema = {\n",
    "    \n",
    "    \"model\": {\n",
    "        \"name\": \"goodreads_rating_model\"\n",
    "    },\n",
    "     \"connectors\": [\n",
    "        {\n",
    "                \"type\": \"Dataset\",\n",
    "                \"id\": \"goodreads_events\",\n",
    "                \"name\": \"goodreads_events\"\n",
    "        },\n",
    "        {\n",
    "                \"type\": \"Dataset\",\n",
    "                \"id\": \"goodreads_users\",\n",
    "                \"name\": \"goodreads_users\"\n",
    "        },\n",
    "        {\n",
    "                \"type\": \"Dataset\",\n",
    "                \"id\": \"goodreads_items\",\n",
    "                \"name\": \"goodreads_items\"\n",
    "        },\n",
    "    ],\n",
    "    \n",
    "    \"fetch\": {\n",
    "        \"events\": \"SELECT user_id, book_id AS item_id, date_added AS created_at, rating AS label FROM goodreads_events\",\n",
    "        \"users\": \"SELECT user_id FROM goodreads_events\",\n",
    "        \"items\": \"SELECT book_id AS item_id FROM goodreads_events\" \n",
    "    }\n",
    "}\n",
    "\n",
    "with open(f'{dir_path}/poetry_rating_schema.yaml', 'w') as file:\n",
    "    yaml.dump(poetry_rating_schema, file)"
   ]
  },
  {
   "cell_type": "code",
   "execution_count": 20,
   "id": "92365054-9f1f-4f33-a9e9-bb6393998d82",
   "metadata": {},
   "outputs": [
    {
     "name": "stdout",
     "output_type": "stream",
     "text": [
      "{\n",
      "  \"connectors\": [\n",
      "    {\n",
      "      \"id\": \"goodreads_events\",\n",
      "      \"name\": \"goodreads_events\",\n",
      "      \"type\": \"Dataset\"\n",
      "    },\n",
      "    {\n",
      "      \"id\": \"goodreads_users\",\n",
      "      \"name\": \"goodreads_users\",\n",
      "      \"type\": \"Dataset\"\n",
      "    },\n",
      "    {\n",
      "      \"id\": \"goodreads_items\",\n",
      "      \"name\": \"goodreads_items\",\n",
      "      \"type\": \"Dataset\"\n",
      "    }\n",
      "  ],\n",
      "  \"fetch\": {\n",
      "    \"events\": \"SELECT user_id, book_id AS item_id, date_added AS created_at, rating AS label FROM goodreads_events\",\n",
      "    \"items\": \"SELECT book_id AS item_id FROM goodreads_events\",\n",
      "    \"users\": \"SELECT user_id FROM goodreads_events\"\n",
      "  },\n",
      "  \"model\": {\n",
      "    \"name\": \"goodreads_rating_model\"\n",
      "  }\n",
      "}\n",
      "model_url: https://api.prod.shaped.ai/v1/models/goodreads_rating_model\n",
      "\n"
     ]
    }
   ],
   "source": [
    "! shaped create-model --file notebook_assets/poetry_rating_schema.yaml"
   ]
  },
  {
   "cell_type": "markdown",
   "id": "58d24288-0d1e-4188-b269-8d5651434086",
   "metadata": {},
   "source": [
    "It may take a moment for Shaped to start building the model, but as above, you can call another CLI command to monitor the progress of your model:"
   ]
  },
  {
   "cell_type": "code",
   "execution_count": 21,
   "id": "88ca8aab-95a0-4ac7-95bc-6727bb9984a5",
   "metadata": {},
   "outputs": [
    {
     "name": "stdout",
     "output_type": "stream",
     "text": [
      "models:\n",
      "- model_name: goodreads_rating_model\n",
      "  model_uri: https://api.prod.shaped.ai/v1/models/goodreads_rating_model\n",
      "  created_at: 2023-08-30T15:00:58 UTC\n",
      "  status: SCHEDULING\n",
      "\n"
     ]
    }
   ],
   "source": [
    "! shaped list-models"
   ]
  },
  {
   "cell_type": "markdown",
   "id": "fb4c81ca-b71b-4e9c-90ab-0ea2a53c2e66",
   "metadata": {},
   "source": [
    "When creating a model, Shaped goes through the following stages:\n",
    "\n",
    "- ```SCHEDULING```\n",
    "- ```FETCHING```\n",
    "- ```TRAINING```\n",
    "- ```DEPLOYING```\n",
    "- ```ACTIVE```"
   ]
  },
  {
   "cell_type": "markdown",
   "id": "023c3678-6483-4a1b-97da-4dee17215a71",
   "metadata": {},
   "source": [
    "Shaped may take a couple of hours, depending on the size of your data, to progress to the ```ACTIVE``` stage. Once this has occured, we can then use our model to make ranking requests."
   ]
  },
  {
   "cell_type": "markdown",
   "id": "f9801cd9-7328-4b11-845f-2cd22ceceae2",
   "metadata": {},
   "source": [
    "## Ranking with Shaped ##"
   ]
  },
  {
   "cell_type": "markdown",
   "id": "5a5d3c30-28a3-46cd-b897-ec6ee7d6734d",
   "metadata": {},
   "source": [
    "Now we are ready to rank. Using Shaped's Rank Endpoint, we can find out the model's output for the highest rated books/poems for a given user. This output takes the form of a parralell array, with each ```book_id``` corresponding to it's relevance score:"
   ]
  },
  {
   "cell_type": "code",
   "execution_count": 28,
   "id": "82eafc50-6504-4a2d-b942-a4806c43507a",
   "metadata": {},
   "outputs": [
    {
     "name": "stdout",
     "output_type": "stream",
     "text": [
      "ids:\n",
      "- '30119'\n",
      "- '1381'\n",
      "- '1420'\n",
      "- '1371'\n",
      "- '30118'\n",
      "scores:\n",
      "- 0.36723583\n",
      "- 0.32046523\n",
      "- 0.291512\n",
      "- 0.128846\n",
      "- 0.12298936\n",
      "\n"
     ]
    }
   ],
   "source": [
    "! shaped rank --model-name goodreads_rating_model --user-id '8842281e1d1347389f2ab93d60773d4d' --limit 5"
   ]
  },
  {
   "cell_type": "markdown",
   "id": "55ddabab-8c31-410d-9156-99cf490fbf26",
   "metadata": {},
   "source": [
    "Although we now have our model working and giving us reccomendations for a given user, this model is not very useful. Because it was trained solely on the event rating data, this model essentially will give us reccommendations for the highest rated books/poems within the dataset. To improve this, we can enrich our shaped model with additional features contained in the goodreads poetry dataset."
   ]
  },
  {
   "cell_type": "markdown",
   "id": "dab7676b-bbc6-41ff-ba02-bd450e48b3f9",
   "metadata": {},
   "source": [
    "## Enriching Our Model ##"
   ]
  },
  {
   "cell_type": "markdown",
   "id": "269645a9-fc22-4dbc-948c-adc337d34b5c",
   "metadata": {},
   "source": [
    "Let's take another look at the collumns featured in our three dataframes:"
   ]
  },
  {
   "cell_type": "code",
   "execution_count": 22,
   "id": "b5626ff9-4ba7-4bc7-ad90-1d907b7d2b35",
   "metadata": {},
   "outputs": [
    {
     "name": "stdout",
     "output_type": "stream",
     "text": [
      "Events DataFrame Columns = ['user_id' 'book_id' 'review_id' 'is_read' 'rating' 'date_added']\n",
      "Users DataFrame Columns = ['user_id' 'book_id' 'review_id' 'rating' 'review_text' 'date_added'\n",
      " 'n_votes']\n",
      "Items DataFrame Columns = ['book_id' 'title' 'language_code' 'authors' 'description'\n",
      " 'publication_year' 'num_pages' 'average_rating']\n"
     ]
    }
   ],
   "source": [
    "print(\"Events DataFrame Columns = {}\".format(events_df.columns.values))\n",
    "print(\"Users DataFrame Columns = {}\".format(users_df.columns.values))\n",
    "print(\"Items DataFrame Columns = {}\".format(items_df.columns.values))"
   ]
  },
  {
   "cell_type": "markdown",
   "id": "dd8eb722-1772-4251-adc2-754c116b6499",
   "metadata": {},
   "source": [
    "Although we do not have any additional user data that may be beneficial for user personalisation, we do have some item data that could be useful. For the sake of simplicity, we wont worry about any item features that are free form text fields, such as titles,authors and descriptions. The relevant item features we should look at are:\n",
    "\n",
    " - ```num_pages```\n",
    " - ```publication_year```\n",
    " - ```average_rating```\n"
   ]
  },
  {
   "cell_type": "markdown",
   "id": "6d84ed3e-dfc6-42b8-83ce-08dab8e2f161",
   "metadata": {},
   "source": [
    "We will now build a secondary model to include these item features by remaking our dataset and model schema:"
   ]
  },
  {
   "cell_type": "code",
   "execution_count": 23,
   "id": "3f3ee2db-f7c3-4ce2-9f4c-f90664ae07fd",
   "metadata": {},
   "outputs": [
    {
     "name": "stdout",
     "output_type": "stream",
     "text": [
      "datasets:\n",
      "- dataset_name: goodreads_events\n",
      "  dataset_uri: https://api.prod.shaped.ai/v1/datasets/goodreads_events\n",
      "  created_at: 2023-08-30T14:47:25 UTC\n",
      "  schema_type: CUSTOM\n",
      "  status: ACTIVE\n",
      "- dataset_name: goodreads_users\n",
      "  dataset_uri: https://api.prod.shaped.ai/v1/datasets/goodreads_users\n",
      "  created_at: 2023-08-30T14:47:27 UTC\n",
      "  schema_type: CUSTOM\n",
      "  status: ACTIVE\n",
      "- dataset_name: goodreads_items\n",
      "  dataset_uri: https://api.prod.shaped.ai/v1/datasets/goodreads_items\n",
      "  created_at: 2023-08-30T14:47:29 UTC\n",
      "  schema_type: CUSTOM\n",
      "  status: ACTIVE\n",
      "\n"
     ]
    }
   ],
   "source": [
    "! shaped list-datasets"
   ]
  },
  {
   "cell_type": "code",
   "execution_count": 24,
   "id": "4519a694-ae62-4741-aa27-7d0a5e1662c9",
   "metadata": {},
   "outputs": [],
   "source": [
    "goodreads_rating_model_schema_rich = {\n",
    "    \"model\": {\n",
    "        \"name\": \"goodreads_rating_model_rich\"\n",
    "    },\n",
    "      \"connectors\": [\n",
    "        {\n",
    "                \"type\": \"Dataset\",\n",
    "                \"id\": \"goodreads_events\",\n",
    "                \"name\": \"goodreads_events\"\n",
    "        },\n",
    "        {\n",
    "                \"type\": \"Dataset\",\n",
    "                \"id\": \"goodreads_users\",\n",
    "                \"name\": \"goodreads_users\"\n",
    "        },\n",
    "        {\n",
    "                \"type\": \"Dataset\",\n",
    "                \"id\": \"goodreads_items\",\n",
    "                \"name\": \"goodreads_items\"\n",
    "        },\n",
    "    ],\n",
    "    \"fetch\": {\n",
    "            \"events\": \"SELECT user_id, book_id AS item_id, date_added AS created_at, rating AS label FROM goodreads_events\",\n",
    "            \"users\": \"SELECT user_id FROM goodreads_users\",\n",
    "            \"items\": \"SELECT book_id AS item_id, num_pages, publication_year FROM goodreads_items\" \n",
    "    }\n",
    "}\n",
    "\n",
    "with open(f'{dir_path}/goodreads_rating_model_schema_rich.yaml', 'w') as file:\n",
    "    yaml.dump(goodreads_rating_model_schema_rich, file)"
   ]
  },
  {
   "cell_type": "code",
   "execution_count": 25,
   "id": "b42be6a6-0266-404c-bf52-293591ac10ec",
   "metadata": {},
   "outputs": [
    {
     "name": "stdout",
     "output_type": "stream",
     "text": [
      "{\n",
      "  \"connectors\": [\n",
      "    {\n",
      "      \"id\": \"goodreads_events\",\n",
      "      \"name\": \"goodreads_events\",\n",
      "      \"type\": \"Dataset\"\n",
      "    },\n",
      "    {\n",
      "      \"id\": \"goodreads_users\",\n",
      "      \"name\": \"goodreads_users\",\n",
      "      \"type\": \"Dataset\"\n",
      "    },\n",
      "    {\n",
      "      \"id\": \"goodreads_items\",\n",
      "      \"name\": \"goodreads_items\",\n",
      "      \"type\": \"Dataset\"\n",
      "    }\n",
      "  ],\n",
      "  \"fetch\": {\n",
      "    \"events\": \"SELECT user_id, book_id AS item_id, date_added AS created_at, rating AS label FROM goodreads_events\",\n",
      "    \"items\": \"SELECT book_id AS item_id, num_pages, publication_year FROM goodreads_items\",\n",
      "    \"users\": \"SELECT user_id FROM goodreads_users\"\n",
      "  },\n",
      "  \"model\": {\n",
      "    \"name\": \"goodreads_rating_model_rich\"\n",
      "  }\n",
      "}\n",
      "model_url: https://api.prod.shaped.ai/v1/models/goodreads_rating_model_rich\n",
      "\n"
     ]
    }
   ],
   "source": [
    "! shaped create-model --file notebook_assets/goodreads_rating_model_schema_rich.yaml"
   ]
  },
  {
   "cell_type": "code",
   "execution_count": 37,
   "id": "36aa6432-987b-43e5-b3fd-a3c087d2dc4d",
   "metadata": {},
   "outputs": [
    {
     "name": "stdout",
     "output_type": "stream",
     "text": [
      "ids:\n",
      "- '1381'\n",
      "- '1420'\n",
      "- '2696'\n",
      "- '15645'\n",
      "- '23513349'\n",
      "scores:\n",
      "- 0.32046523\n",
      "- 0.291512\n",
      "- 0.09279881\n",
      "- 0.05040007\n",
      "- 0.03860431\n",
      "\n"
     ]
    }
   ],
   "source": [
    "! shaped rank --model-name goodreads_rating_model_rich --user-id 9 --limit 5\t"
   ]
  },
  {
   "cell_type": "markdown",
   "id": "32e5373b-3d57-40bf-9806-eb0607a6ff4d",
   "metadata": {},
   "source": [
    "Although we now have a model that is taking in additional item data, this model is still quite limited in terms of user personalization. Because our dataset does not contain any other potentially useful personal user information such as age,sex,occupation,location,etc, the model is not capable of personalizing results for different users, as the only thing that it has at it's disposal to differentiate between users is an arbitrary id string. This essentially results in the model treating relevance ratings as the same for all users. If we had access to more robust user profile data, this model could potentially become better at personalizing poetry books that may have some underlying connection/relevance to specific user information."
   ]
  },
  {
   "cell_type": "markdown",
   "id": "89c1e078-23aa-49e5-8e08-04fddb26ac76",
   "metadata": {},
   "source": [
    "## A/B Testing ##"
   ]
  },
  {
   "cell_type": "markdown",
   "id": "5fc34965-65ad-486d-8f13-8dc6dcfc4423",
   "metadata": {},
   "source": [
    "If a potential customer were to consider using one of these ranking models in production, an A/B test would be neccasary. Let's assume that the aim of a model like this would be to increase user satisfaction with the goodreads service, whilst also increasing user engagement. A customer would need to set up an A/B test as follows:\n",
    "\n",
    "- Each user that visits the website would randomly be directed to A: The Website without model ranking integration or B: The Website with model ranking intergration. Each individual user would have a 50% chance of being directed to either scenario\n",
    "- The user would then be asked to quickly evaluate their experience with the website, possibly on a simply 1-5 star rating system\n",
    "- The customer would also track user engagement for websites A and B, possibly with metrics such as retention rate, average session length, session frequency\n",
    "- The effectiveness of the ranking model integration would then be evaluated by seeing whether the website sees better user engagement either with or out the model"
   ]
  },
  {
   "cell_type": "markdown",
   "id": "dc720d19-5c41-43fd-b59c-02e731a91aeb",
   "metadata": {},
   "source": [
    "## Model Extensions ##"
   ]
  },
  {
   "cell_type": "markdown",
   "id": "cfd5969c-d043-448e-87d5-0a5072688b40",
   "metadata": {},
   "source": [
    "If more time was allowed to improve the effectiveness and personalisation factor of the model, a few options could be explored. Firstly, the retrieval of additional user data as mentioned above could be used to improve the model's ability to determine different types of users, and change/update real time book reccommendations accordingly. This could be done by simply retrieving personal user profile data for the accounts people use for GoodReads.com, and incorperating it into the 'users' section of the model fetch schema. \n",
    "\n",
    "Additionally, work on the potential usefullness of using Language Model encodings for free form text data could be undergone. Item data such as Titles, Authors, Descriptions and individual user text reviews could be used in conjuction with a LLM component to develop semantic vector reperesentations that could further identify books and if they fall into increasingly complex relevant categorisations such as:\n",
    "\n",
    " - Genre\n",
    " - Poem Structure (Free Verse,Sonnet,Haiku,Limerick,etc.)\n",
    " - Verbosity (i.e how complex/simplistic language used is)\n",
    "\n",
    "These two potential avenues in conjuction with each other could definitely improve the ablity of the model to personalize reccommendations based on the specific user and what they are searching for in new book discoveries. "
   ]
  },
  {
   "cell_type": "code",
   "execution_count": null,
   "id": "aa3e6080-5fd2-4d54-95c2-4248e1d0ce97",
   "metadata": {},
   "outputs": [],
   "source": []
  }
 ],
 "metadata": {
  "kernelspec": {
   "display_name": "Python 3 (ipykernel)",
   "language": "python",
   "name": "python3"
  },
  "language_info": {
   "codemirror_mode": {
    "name": "ipython",
    "version": 3
   },
   "file_extension": ".py",
   "mimetype": "text/x-python",
   "name": "python",
   "nbconvert_exporter": "python",
   "pygments_lexer": "ipython3",
   "version": "3.10.12"
  }
 },
 "nbformat": 4,
 "nbformat_minor": 5
}
